{
  "nbformat": 4,
  "nbformat_minor": 0,
  "metadata": {
    "colab": {
      "name": "blockchain.ipynb",
      "version": "0.3.2",
      "provenance": [],
      "collapsed_sections": []
    },
    "kernelspec": {
      "name": "python3",
      "display_name": "Python 3"
    }
  },
  "cells": [
    {
      "metadata": {
        "id": "1CP2wAT5pRwV",
        "colab_type": "text"
      },
      "cell_type": "markdown",
      "source": [
        "## Whats a Block?\n",
        "\n",
        "![alt text](https://i.imgur.com/6AlimK8.png)\n",
        "\n",
        "\n",
        "## Whats a Blockchain? \n",
        "\n",
        "![alt text](https://cdn-images-1.medium.com/max/1600/1*pbyFH4U5sO27UE1EjnImoA.png)\n",
        "\n",
        "\n",
        "## Show Demo\n"
      ]
    },
    {
      "metadata": {
        "id": "tQ6IllyVqVbZ",
        "colab_type": "text"
      },
      "cell_type": "markdown",
      "source": [
        "## 4 Step Process!\n",
        "1. Import dependencies\n",
        "2. Create a block\n",
        "3. Create a blockchain\n",
        "4. Print out the blockchain"
      ]
    },
    {
      "metadata": {
        "id": "RAvxFkk6qe_E",
        "colab_type": "text"
      },
      "cell_type": "markdown",
      "source": [
        "## Step 1 - Import Dependencies"
      ]
    },
    {
      "metadata": {
        "id": "ceKI8Fdwqj6O",
        "colab_type": "code",
        "colab": {}
      },
      "cell_type": "code",
      "source": [
        "#generates timestamps\n",
        "import datetime\n",
        "#contains hashing algorithms\n",
        "import hashlib"
      ],
      "execution_count": 0,
      "outputs": []
    },
    {
      "metadata": {
        "id": "6EGMjFPvqmSf",
        "colab_type": "text"
      },
      "cell_type": "markdown",
      "source": [
        "## Step 2 - Create a Block "
      ]
    },
    {
      "metadata": {
        "id": "kKgaSzZaqqqc",
        "colab_type": "code",
        "colab": {}
      },
      "cell_type": "code",
      "source": [
        "#defining the 'block' data structure\n",
        "class Block:\n",
        "    #each block has 7 attributes \n",
        "  \n",
        "    #1 number of the block\n",
        "    blockNo = 0\n",
        "    #2 what data is stored in this block?\n",
        "    data = None\n",
        "    #3 pointer to the next block\n",
        "    next = None\n",
        "    #4 The hash of this block (serves as a unique ID and verifies its integrity)\n",
        "    #A hash is a function that converts data into a number within a certain range. \n",
        "    hash = None\n",
        "    #5 A nonce is a number only used once  \n",
        "    nonce = 0\n",
        "    #6 store the hash (ID) of the previous block in the chain\n",
        "    previous_hash = 0x0\n",
        "    #7 timestamp \n",
        "    timestamp = datetime.datetime.now()\n",
        "\n",
        "    #We initialize a block by storing some data in it\n",
        "    def __init__(self, data):\n",
        "        self.data = data\n",
        "\n",
        "    #Function to compute 'hash' of a block\n",
        "    #a hash acts as both a unique identifier\n",
        "    #& verifies its integrity\n",
        "    #if someone changes the hash of a block\n",
        "    #every block that comes after it is changed \n",
        "    #this helps make a blockchain immutable\n",
        "    def hash(self):\n",
        "        #SHA-256 is a hashing algorithm that\n",
        "        # generates an almost-unique 256-bit signature that represents\n",
        "        # some piece of text\n",
        "        h = hashlib.sha256()\n",
        "        #the input to the SHA-256 algorithm\n",
        "        #will be a concatenated string\n",
        "        #consisting of 5 block attributes\n",
        "        #the nonce, data, previous hash, timestamp, & block #\n",
        "        h.update(\n",
        "        str(self.nonce).encode('utf-8') +\n",
        "        str(self.data).encode('utf-8') +\n",
        "        str(self.previous_hash).encode('utf-8') +\n",
        "        str(self.timestamp).encode('utf-8') +\n",
        "        str(self.blockNo).encode('utf-8')\n",
        "        )\n",
        "        #returns a hexademical string\n",
        "        return h.hexdigest()\n",
        "      \n",
        "        ## SHOW DEMO 2, change data \n",
        "\n",
        "    def __str__(self):\n",
        "        #print out the value of a block\n",
        "        return \"Block Hash: \" + str(self.hash()) + \"\\nBlockNo: \" + str(self.blockNo) + \"\\nBlock Data: \" + str(self.data) + \"\\nHashes: \" + str(self.nonce) + \"\\n--------------\"\n"
      ],
      "execution_count": 0,
      "outputs": []
    },
    {
      "metadata": {
        "id": "4Tg4xzysqvfu",
        "colab_type": "text"
      },
      "cell_type": "markdown",
      "source": [
        "## Step 3 - Create a Blockchain"
      ]
    },
    {
      "metadata": {
        "id": "B9FofJLanhtF",
        "colab_type": "code",
        "colab": {}
      },
      "cell_type": "code",
      "source": [
        "#defining the blockchain datastructure\n",
        "#consists of 'blocks' linked together\n",
        "#to form a 'chain'. Thats why its called\n",
        "#'blockchain'\n",
        "class Blockchain:\n",
        "    \n",
        "    #mining difficulty\n",
        "    diff = 20\n",
        "    #2^32. This is the maximum number\n",
        "    #we can store in a 32-bit number\n",
        "    maxNonce = 2**32\n",
        "    #target hash, for mining\n",
        "    target = 2 ** (256-diff)\n",
        "\n",
        "    #generates the first block in the blockchain\n",
        "    #this is called the 'genesis block'\n",
        "    block = Block(\"Genesis\")\n",
        "    #sets it as the head of our blockchain\n",
        "    head = block\n",
        "\n",
        "    #adds a given block to the chain of blocks\n",
        "    #the block to be added is the only parameter\n",
        "    def add(self, block):\n",
        "        \n",
        "        #set the hash of a given block\n",
        "        #as our new block's previous hash\n",
        "        block.previous_hash = self.block.hash()\n",
        "        #set the block # of our new block\n",
        "        #as the given block's # + 1, since\n",
        "        #its next in the chain\n",
        "        block.blockNo = self.block.blockNo + 1\n",
        "\n",
        "        #set the next block equal to \n",
        "        #itself. This is the new head \n",
        "        #of the blockchain\n",
        "        self.block.next = block\n",
        "        self.block = self.block.next\n",
        "\n",
        "    #Determines whether or not we can add a given block to\n",
        "    #the blockchain\n",
        "    def mine(self, block):\n",
        "        #from 0 to 2^32 \n",
        "        for n in range(self.maxNonce):\n",
        "            #is the value of the given block's hash less than our target value?\n",
        "            if int(block.hash(), 16) <= self.target:\n",
        "                #if it is,\n",
        "                #add the block to the chain\n",
        "                self.add(block)\n",
        "                print(block)\n",
        "                break\n",
        "            else:\n",
        "                block.nonce += 1\n",
        "   \n",
        "    ## Show demo 3 ! Mine a block"
      ],
      "execution_count": 0,
      "outputs": []
    },
    {
      "metadata": {
        "id": "5HgdauZ-q4q9",
        "colab_type": "text"
      },
      "cell_type": "markdown",
      "source": [
        "## Step 4 - Print the blockchain "
      ]
    },
    {
      "metadata": {
        "id": "qxu2OSIqq8a6",
        "colab_type": "code",
        "colab": {}
      },
      "cell_type": "code",
      "source": [
        "#initialize blockchain\n",
        "blockchain = Blockchain()\n",
        "\n",
        "#mine 10 blocks\n",
        "for n in range(10):\n",
        "    blockchain.mine(Block(\"Block \" + str(n+1)))\n",
        "    \n",
        "#print out each block in the blockchain\n",
        "while blockchain.head != None:\n",
        "    print(blockchain.head)\n",
        "    blockchain.head = blockchain.head.next"
      ],
      "execution_count": 0,
      "outputs": []
    }
  ]
}